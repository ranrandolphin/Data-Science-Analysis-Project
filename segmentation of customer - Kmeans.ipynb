  {
   "cell_type": "markdown",
   "metadata": {},
   "source": [
    "#### 1. Data Process\n",
    "\n",
    "There are 8402 different individual users in the dataset. Also, there are 1524710 number of observations in total.\n",
    "According to the dataset, the time and amount_in_cents are the two features which can be used in following analysis. Only two features may not be enough for demonstrating useful information based on specific users. Thus, I decided to transfer and process those two features in order to generate more different features for segmenting and predicting. \n",
    "The time is ISO 8601 format, and here, I converted it into four different cells named Year, Month, Day and Hour. Next, to create a new dataframe, newcase, contained the columns of user, amount_in_cents, Year, Month, Day and Hour.\n",
    "There are 8402 rows in “newcase” dataframe, and 6 columns as above.\n"
   ]
  },
  {
   "cell_type": "code",
   "execution_count": 1,
   "metadata": {
    "collapsed": false
   },
   "outputs": [
    {
     "name": "stdout",
     "output_type": "stream",
     "text": [
      "Number of different users are: 8402\n",
      "Total number of observations: 1524710\n"
     ]
    }
   ],
   "source": [
    "import pandas as pd\n",
    "from pandas import DataFrame\n",
    "import numpy as np\n",
    "from datetime import datetime\n",
    "import dateutil.parser\n",
    "\n",
    "case = pd.read_csv('/Users/ranwei/Desktop/case_final.csv')\n",
    "case.isnull().sum() #there is no missing value\n",
    "print \"Number of different users are: \" + str(len(set(case.user)))\n",
    "print \"Total number of observations: \" + str(len(case.user))"
   ]
  },
  {
   "cell_type": "markdown",
   "metadata": {},
   "source": [
    "##### Convert ISO 8601 date elements to 4 cells: Year, Month, Day and Hour"
   ]
  },
  {
   "cell_type": "code",
   "execution_count": 2,
   "metadata": {
    "collapsed": false
   },
   "outputs": [],
   "source": [
    "case['Year'] = case['time'].apply(lambda x: dateutil.parser.parse(x).year)\n",
    "case['Month'] = case['time'].apply(lambda x: dateutil.parser.parse(x).month)\n",
    "case['Day'] = case['time'].apply(lambda x: dateutil.parser.parse(x).day)\n",
    "case['Hour'] = case['time'].apply(lambda x: dateutil.parser.parse(x).hour)\n",
    "\n",
    "newcase = case[['user', 'amount_in_cents', 'Year', 'Month', 'Day', 'Hour']]"
   ]
  },
  {
   "cell_type": "markdown",
   "metadata": {},
   "source": [
    "#### 2. Segmentation\n",
    "\n",
    "Q: How would you propose segmenting these users in ways that can be useful for Sales, Product, and other teams? - I used K-Means clustering algorithm to segment users based on features described below.\n",
    "\n",
    "Our target is to segment our users for future analysis, so that we need to find a method to distinguish them.  \n",
    "\n",
    "I chose to user K-means clustering algorithm to segment the user based on features generated below. K-means works by grouping the points together in such a way that the distance between all the points and the midpoint of the cluster they belong to is minimized. Thus, K-means algorithm would help us to learn the user’ behaviors based on total sales, increases between years, active during seasons, and others.  \n",
    "\n",
    "First, I created the “season” features: Spring, Summer, Autumn, and Winter. To group by “newcase” dataset based on both “user” and “Month” and then to compute the occurrences under different months will give us the occurrences of those 4 seasons. The dataframe named “data1” contained columns: User, Sum (amount in total), Mean, Count (number of transaction), High (the highest amount_in_cents), Duration (how many years user user Stripe), Spring (occurrences), Summer, Autumn and Winter.  \n",
    "\n",
    "Then, I created the “insightYear” dataframe. The main feature I would like to introduce here is the “Increase_btw_years”, which demonstrates the increase amounts between the total amount of parried different years. For example, if one user only has transaction in one year, the “Increase_btw_years” does not change and holds 0 value.  \n",
    "\n",
    "Finally, I merged “data1” and “insightYear” two dataframes together based on the same User ID. I used this merged dataframe also named “data1” in following process.\n"
   ]
  },
  {
   "cell_type": "code",
   "execution_count": 8,
   "metadata": {
    "collapsed": false
   },
   "outputs": [],
   "source": [
    "# Create a SalesTotal dataframe contained summary of sales based on each user\n",
    "f1 = {'Year': ['min', 'max'], 'amount_in_cents':['sum','mean', 'count','max']}\n",
    "SalesTotal = newcase.groupby('user')['Year', 'amount_in_cents'].agg(f1).reset_index()\n",
    "SalesTotal.columns = ['User', 'Sum', 'Mean', 'Count', 'High', 'Before', 'After']\n",
    "SalesTotal['Duration'] = (SalesTotal.After - SalesTotal.Before) + 1\n",
    "\n",
    "# Create a month dataframe contained each month and its occurrence of per user\n",
    "month = newcase.groupby(['user', 'Month'])['Month'].size().reset_index()\n",
    "month.columns = ['User', 'Month', 'Occurrence']\n",
    "\n",
    "# User pivot to transpose the previous month dataframe\n",
    "result = month.pivot(index='User', columns='Month', values='Occurrence')\n",
    "result.columns = ['Month{:d}'.format(col) for col in result.columns]\n",
    "result = result.reset_index()"
   ]
  },
  {
   "cell_type": "code",
   "execution_count": 155,
   "metadata": {
    "collapsed": false
   },
   "outputs": [],
   "source": [
    "#Create a new dataframe contained features\n",
    "title = ['User', 'Sum', 'Mean', 'Count', 'High', 'Before', 'After', 'Duration', 'Month1', 'Month2', 'Month3', \n",
    "         'Month4', 'Month5', 'Month6','Month7', 'Month8', 'Month9','Month10', 'Month11', 'Month12']\n",
    "\n",
    "datasample = pd.DataFrame(index=range(0, len(SalesTotal)),columns = title)\n",
    "datasample = datasample.fillna(SalesTotal)\n",
    "data1 = datasample.fillna(result)\n",
    "data1 = data1.fillna(0)\n",
    "\n",
    "#Seaonal features\n",
    "data1['Spring'] = data1['Month1'] + data1['Month2'] + data1['Month3']\n",
    "data1['Summer'] = data1['Month4'] + data1['Month5'] + data1['Month6']\n",
    "data1['Autumn'] = data1['Month7'] + data1['Month8'] + data1['Month9']\n",
    "data1['Winter'] = data1['Month10'] + data1['Month11'] + data1['Month12']\n",
    "\n",
    "data1 = data1[['User', 'Sum', 'Mean', 'Count', 'High','Duration','Spring','Summer','Autumn','Winter']]"
   ]
  },
  {
   "cell_type": "code",
   "execution_count": 156,
   "metadata": {
    "collapsed": false
   },
   "outputs": [
    {
     "name": "stderr",
     "output_type": "stream",
     "text": [
      "/anaconda/lib/python2.7/site-packages/ipykernel/__main__.py:10: SettingWithCopyWarning: \n",
      "A value is trying to be set on a copy of a slice from a DataFrame\n",
      "\n",
      "See the caveats in the documentation: http://pandas.pydata.org/pandas-docs/stable/indexing.html#indexing-view-versus-copy\n"
     ]
    },
    {
     "data": {
      "text/html": [
       "<div>\n",
       "<table border=\"1\" class=\"dataframe\">\n",
       "  <thead>\n",
       "    <tr style=\"text-align: right;\">\n",
       "      <th></th>\n",
       "      <th>User</th>\n",
       "      <th>Sum</th>\n",
       "      <th>Mean</th>\n",
       "      <th>Count</th>\n",
       "      <th>High</th>\n",
       "      <th>Duration</th>\n",
       "      <th>Spring</th>\n",
       "      <th>Summer</th>\n",
       "      <th>Autumn</th>\n",
       "      <th>Winter</th>\n",
       "      <th>Increase_btw_Years</th>\n",
       "    </tr>\n",
       "  </thead>\n",
       "  <tbody>\n",
       "    <tr>\n",
       "      <th>0</th>\n",
       "      <td>00038f0484334ac047449166cfbbf6452b31c85c</td>\n",
       "      <td>979323</td>\n",
       "      <td>3159.106452</td>\n",
       "      <td>310</td>\n",
       "      <td>24052</td>\n",
       "      <td>1</td>\n",
       "      <td>105.0</td>\n",
       "      <td>205.0</td>\n",
       "      <td>0.0</td>\n",
       "      <td>0.0</td>\n",
       "      <td>0.0</td>\n",
       "    </tr>\n",
       "    <tr>\n",
       "      <th>1</th>\n",
       "      <td>0012a74e2bb1ab0073b2e18532e87474b6b7cfca</td>\n",
       "      <td>9140</td>\n",
       "      <td>4570.000000</td>\n",
       "      <td>2</td>\n",
       "      <td>5893</td>\n",
       "      <td>1</td>\n",
       "      <td>0.0</td>\n",
       "      <td>0.0</td>\n",
       "      <td>0.0</td>\n",
       "      <td>2.0</td>\n",
       "      <td>0.0</td>\n",
       "    </tr>\n",
       "    <tr>\n",
       "      <th>2</th>\n",
       "      <td>001855810c25d8bb03210f8c0114de27da9cd76c</td>\n",
       "      <td>1506469</td>\n",
       "      <td>7725.482051</td>\n",
       "      <td>195</td>\n",
       "      <td>64580</td>\n",
       "      <td>2</td>\n",
       "      <td>72.0</td>\n",
       "      <td>106.0</td>\n",
       "      <td>0.0</td>\n",
       "      <td>17.0</td>\n",
       "      <td>1248155.0</td>\n",
       "    </tr>\n",
       "    <tr>\n",
       "      <th>3</th>\n",
       "      <td>001f3978fa7cad62f2e2ddfa155184a316282b0e</td>\n",
       "      <td>2769384</td>\n",
       "      <td>16683.036145</td>\n",
       "      <td>166</td>\n",
       "      <td>78891</td>\n",
       "      <td>2</td>\n",
       "      <td>27.0</td>\n",
       "      <td>71.0</td>\n",
       "      <td>54.0</td>\n",
       "      <td>14.0</td>\n",
       "      <td>2733304.0</td>\n",
       "    </tr>\n",
       "    <tr>\n",
       "      <th>4</th>\n",
       "      <td>00317873b9dcbcff6759f7ec4225d8531520fdcb</td>\n",
       "      <td>8058</td>\n",
       "      <td>4029.000000</td>\n",
       "      <td>2</td>\n",
       "      <td>5051</td>\n",
       "      <td>1</td>\n",
       "      <td>2.0</td>\n",
       "      <td>0.0</td>\n",
       "      <td>0.0</td>\n",
       "      <td>0.0</td>\n",
       "      <td>0.0</td>\n",
       "    </tr>\n",
       "  </tbody>\n",
       "</table>\n",
       "</div>"
      ],
      "text/plain": [
       "                                       User      Sum          Mean  Count  \\\n",
       "0  00038f0484334ac047449166cfbbf6452b31c85c   979323   3159.106452    310   \n",
       "1  0012a74e2bb1ab0073b2e18532e87474b6b7cfca     9140   4570.000000      2   \n",
       "2  001855810c25d8bb03210f8c0114de27da9cd76c  1506469   7725.482051    195   \n",
       "3  001f3978fa7cad62f2e2ddfa155184a316282b0e  2769384  16683.036145    166   \n",
       "4  00317873b9dcbcff6759f7ec4225d8531520fdcb     8058   4029.000000      2   \n",
       "\n",
       "    High  Duration  Spring  Summer  Autumn  Winter  Increase_btw_Years  \n",
       "0  24052         1   105.0   205.0     0.0     0.0                 0.0  \n",
       "1   5893         1     0.0     0.0     0.0     2.0                 0.0  \n",
       "2  64580         2    72.0   106.0     0.0    17.0           1248155.0  \n",
       "3  78891         2    27.0    71.0    54.0    14.0           2733304.0  \n",
       "4   5051         1     2.0     0.0     0.0     0.0                 0.0  "
      ]
     },
     "execution_count": 156,
     "metadata": {},
     "output_type": "execute_result"
    }
   ],
   "source": [
    "# Create a YearSale dataframe contained the column 'YearSales', which indicates the total amount of per year\n",
    "insightsample = newcase.groupby(['user', 'Year'])['amount_in_cents'].sum().reset_index()\n",
    "# insight.groupby(['user', 'Year'])['amount_in_cents'].diff()\n",
    "insightsample.columns = ['User', 'Year', 'YearSales']\n",
    "\n",
    "# Add 'Increase_btw_Years' column to demonstrate the increase amounts between different year according to different user\n",
    "# if 'Increase_btw_Years' equals to 0, we found that the user is only being active one year\n",
    "insight['Increase_btw_Years'] = insight['YearSales'].diff()\n",
    "mask = insight.User != insight.User.shift(1)\n",
    "insight['Increase_btw_Years'][mask] = 0\n",
    "\n",
    "# Finally, generate the dataframe 'insighYear' with only two columns: User, Increase_btw_Year\n",
    "insightYear = insight.groupby(['User'])['Increase_btw_Years'].sum().reset_index()\n",
    "data1 = data1.merge(insightYear)\n",
    "data1.head()"
   ]
  },
  {
   "cell_type": "markdown",
   "metadata": {},
   "source": [
    "##### K-means clustering algorithm\n",
    "\n",
    "Now in order to create the clusters, I used the KMeans functionality from scikit-learn, and chose 10 clusters here.  \n",
    "\n",
    "After applying K-means algorithm, we could easily see the number of users under different clusters. We could find groups of users that mean the users in a group will be similar (or related) to one another and different from (or unrelated to) the users in other groups.  \n",
    "\n",
    "Here, I chose the cluster0 to interpret one of those clusters, because the cluster0 contains the most of users, 8154 numbers of users. Also, even though several clusters only contained a few value, we may find more users in those clusters if we have a very large dataset. Or, we could conclude that those clusters may not be significant for further analysis, and thus, we would like to only focus on “informative” clusters with quite large number of users.  \n",
    "\n",
    "The center centroid (cluster center) of cluster0 is a high-dimension vector: Sum(680671), Mean(23373), Count(66), High(72283), Duration(2), Spring(16), Summer(16), Autumn(18), Winter(0), and Increase_btw_Years(17453). Thus, for users in cluster0, they have similar features compared among others, and similar values compared with cluster center. They gather around the cluster0 center.  \n",
    "\n",
    "I would like to then apply supervise learning method on different clusters in order to build predictive model.\n"
   ]
  },
  {
   "cell_type": "code",
   "execution_count": 163,
   "metadata": {
    "collapsed": false
   },
   "outputs": [
    {
     "name": "stdout",
     "output_type": "stream",
     "text": [
      "   User\n",
      "0  8154\n",
      "1     2\n",
      "2     3\n",
      "3     1\n",
      "4    26\n",
      "5     6\n",
      "6     4\n",
      "7    14\n",
      "8   190\n",
      "9     2\n"
     ]
    },
    {
     "data": {
      "text/plain": [
       "<matplotlib.axes._subplots.AxesSubplot at 0x14869a050>"
      ]
     },
     "execution_count": 163,
     "metadata": {},
     "output_type": "execute_result"
    },
    {
     "data": {
      "image/png": "iVBORw0KGgoAAAANSUhEUgAAAXoAAAD8CAYAAAB5Pm/hAAAABHNCSVQICAgIfAhkiAAAAAlwSFlz\nAAALEgAACxIB0t1+/AAAF8pJREFUeJzt3XGQlPd93/H3R0IIycKENALsk2Xh0JMPTRoZq2e3jsum\ndsA4HlDcDj2nCShC6YyER2o7kzHntMP908R02rE8k5FmPFGkYyqFILcacIcCpmjrcZsIHEkBGwQ3\nTkEcNtekiXFlZRyQP/1jfyevTge3B7uru0ef18zNPfvd37PP7zmOzz733b37yTYREVFd17zVE4iI\niM5K0EdEVFyCPiKi4hL0EREVl6CPiKi4BH1ERMW1FPSSHpJ0tHw8WGoLJe2XdELSPkkLmsYPShqR\ndFzSqqb6CklHJJ2U9HD7TyciIiaaMugl3QFsAu4C7gQ+JelngS3AAdu3AweBwTJ+ObAe6APWAI9I\nUnm4R4FNtnuBXkmr23w+ERExQStX9H3Ac7Z/ZPs14OvAp4G1wHAZMwzcXbbXAjtsX7R9ChgB+iUt\nAebbPlzGbW/aJyIiOqSVoP8W8NHSqrkR+CTwHmCx7TEA2+eARWV8D3Cmaf+zpdYDjDbVR0stIiI6\naM5UA2y/JGkb8DXgFeAF4LXJhrZrUpLydxkiIq6AbU2stfRirO3Hbd9luwZ8HzgBjElaDFDaMv+n\nDD9L44p/3C2ldqn6pY55xR9bt269qv3b9TET5jET5jBT5jET5jBT5jET5jBT5jET5tCueVxKq++6\nubl8vhX4FeApYDdwTxmyEdhVtncDA5LmSloKLAMOudHeOS+pv7w4u6Fpn4iI6JApWzfFf5b008AF\n4AHbPyjtnJ2S7gVO03inDbaPSdoJHGsaP/5Usxl4ApgH7LG9t32nEhERk2kp6G3/o0lqfwV8/BLj\nfxf43Unqfwr83DTnOG21Wq3Th2jJTJjHTJgDzIx5zIQ5wMyYx0yYA8yMecyEOUBn56HL9XXeKpI8\nE+cVETGTScJX+mJsRETMXgn6iIiKS9BHRFRcgj4iouIS9BERFZegj4iouAR9RETFJegjIiouQR8R\nUXEJ+oiIikvQR0RUXII+IqLiEvQRERWXoI+IqLgEfURExbW6lOC/kvQtSUckPVmWCVwoab+kE5L2\nSVrQNH5Q0oik45JWNdVXlMc4KenhK530kiW3IemqPpYsue1KDx8RMatMufCIpHcD3wDeb/tvJf0R\nsAdYDvxf2/9e0ueAhba3SFoOPAn8fRoLgB8A/q5tS3oO+Kztw5L2AF+yvW+SY1524ZHGkrNXuzCJ\nLruYbkTEbHO1C49cC7xD0hzgBuAssA4YLvcPA3eX7bXADtsXbZ8CRoB+SUuA+bYPl3Hbm/aJiIgO\nmTLobX8X+I/AyzQC/rztA8Bi22NlzDlgUdmlBzjT9BBnS60HGG2qj5ZaRER00JSLg0v6KRpX7+8F\nzgNPS/rnvLl30tY+yNDQ0OvbtVptxizgGxExU9Trder1+pTjWunR/1Ngte3fLLd/Hfgw8I+Bmu2x\n0pZ51nafpC2AbW8r4/cCW4HT42NKfQBYafv+SY6ZHn1ExDRdTY/+ZeDDkuapkbAfA44Bu4F7ypiN\nwK6yvRsYKO/MWQosAw6V9s55Sf3lcTY07RMRER0yZevG9iFJXwFeAC6Uz18G5gM7Jd1L42p9fRl/\nTNJOGk8GF4AHmi7PNwNPAPOAPbb3tvd0IiJioilbN2+FtG4iIqbvat9eGRERs1SCPiKi4hL0EREV\nl6CPiKi4BH1ERMUl6CMiKi5BHxFRcQn6iIiKS9BHRFRcgj4iouIS9BERFZegj4iouAR9RETFJegj\nIiouQR8RUXEJ+oiIipsy6CX1SnpB0vPl83lJD0paKGm/pBOS9kla0LTPoKQRScclrWqqr5B0RNJJ\nSQ936qQiIuInpgx62ydtf8D2CuCDwA+BZ4AtwAHbtwMHgUEASctpLCvYB6wBHilrxAI8Cmyy3Qv0\nSlrd7hOKiIg3mm7r5uPAd2yfAdYBw6U+DNxdttcCO2xftH0KGAH6JS0B5ts+XMZtb9onIiI6ZLpB\n/8+Ap8r2YttjALbPAYtKvQc407TP2VLrAUab6qOlFhERHTSn1YGSrqNxtf65Upq4snZbV9oeGhp6\nfbtWq1Gr1dr58BERs169Xqder085TnZr+SxpLfCA7U+U28eBmu2x0pZ51nafpC2AbW8r4/YCW4HT\n42NKfQBYafv+SY7ly82r0fK/2ucV0eq5R0TMBpKwrYn16bRuPgP8YdPt3cA9ZXsjsKupPiBprqSl\nwDLgUGnvnJfUX16c3dC0T0REdEhLV/SSbqRxRf4+2/+v1H4a2Am8p9y33vb3y32DwCbgAvCQ7f2l\n/kHgCWAesMf2Q5c4Xq7oIyKm6VJX9C23bropQR8RMX3taN1ERMQslKCPiKi4BH1ERMUl6CMiKi5B\nHxFRcQn6iIiKS9BHRFRcgj4iouIS9BERFZegj4iouAR9RETFJegjIiouQR8RUXEJ+oiIikvQR0RU\nXII+IqLiWgp6SQskPS3puKRvS/qQpIWS9ks6IWmfpAVN4wcljZTxq5rqKyQdkXRS0sOdOKGIiHij\nVq/ov0Rj6b8+4OeBl4AtwAHbtwMHgUEAScuB9UAfsAZ4pKwRC/AosMl2L9AraXXbziQiIiY1ZdBL\neifwUduPA9i+aPs8sA4YLsOGgbvL9lpgRxl3ChgB+iUtAebbPlzGbW/aJyIiOqSVK/qlwF9KelzS\n85K+XBYLX2x7DMD2OWBRGd8DnGna/2yp9QCjTfXRUouIiA6a0+KYFcBm29+U9EUabZuJK2u3daXt\noaGh17drtRq1Wq2dDx8RMevV63Xq9fqU42RfPp8lLQb+2Pb7yu1foBH0PwvUbI+VtsyztvskbQFs\ne1sZvxfYCpweH1PqA8BK2/dPckxfbl6Nlv/VPq+Iqc49ImI2kYRtTaxP2bop7ZkzknpL6WPAt4Hd\nwD2lthHYVbZ3AwOS5kpaCiwDDpX2znlJ/eXF2Q1N+0RERIe00roBeBB4UtJ1wJ8DvwFcC+yUdC+N\nq/X1ALaPSdoJHAMuAA80XZ5vBp4A5tF4F8/edp1IRERMbsrWzVshrZuIiOm74tZNRETMbgn6iIiK\nS9BHRFRcgj4iouIS9BERFZegj4iouAR9RETFJegjIiouQR8RUXEJ+oiIikvQR0RUXII+IqLiEvQR\nERWXoI+IqLgEfURExbUU9JJOSfozSS9IOlRqCyXtl3RC0j5JC5rGD0oakXRc0qqm+gpJRySdlPRw\n+08nIiImavWK/sc01of9gO3+UtsCHLB9O3AQGASQtJzGalN9wBrgkbJ0IMCjwCbbvUCvpNVtOo+I\niLiEVoNek4xdBwyX7WHg7rK9Fthh+6LtU8AI0F8WEJ9v+3AZt71pn4iI6JBWg97A1yQdlnRfqS0u\nC4dTFv5eVOo9wJmmfc+WWg8w2lQfLbWIiOigVhcH/4jt70m6Gdgv6QRvXrS1rQuwDg0Nvb5dq9Wo\n1WrtfPiIiFmvXq9Tr9enHDftxcElbQVeAe6j0bcfK22ZZ233SdoC2Pa2Mn4vsBU4PT6m1AeAlbbv\nn+QYWRw8ImKarnhxcEk3SrqpbL8DWAUcBXYD95RhG4FdZXs3MCBprqSlwDLgUGnvnJfUX16c3dC0\nT0REdEgrrZvFwDOSXMY/aXu/pG8COyXdS+NqfT2A7WOSdgLHgAvAA02X55uBJ4B5wB7be9t6NhER\n8SbTbt10Q1o3ERHTd8Wtm4iImN0S9BERFZegj4iouAR9RETFJegjIiouQR8RUXEJ+oiIikvQR0RU\nXII+IqLiEvQRERWXoI+IqLgEfURExSXoIyIqLkEfEVFxCfqIiIpL0EdEVFzLQS/pGknPS9pdbi+U\ntF/SCUn7JC1oGjsoaUTScUmrmuorJB2RdFLSw+09lYiImMx0rugforE84LgtwAHbtwMHgUEASctp\nLCvYB6wBHilrxAI8Cmyy3Qv0Slp9lfOPiIgptBT0km4BPgn8flN5HTBctoeBu8v2WmCH7Yu2TwEj\nQL+kJcB824fLuO1N+0RERIe0ekX/ReC3eONCrYttjwHYPgcsKvUe4EzTuLOl1gOMNtVHSy0iIjpo\nzlQDJP0yMGb7RUm1ywxt60rbQ0NDr2/XajVqtcsdOiLi7ader1Ov16ccJ/vy+Szpd4BfAy4CNwDz\ngWeAu4Ca7bHSlnnWdp+kLYBtbyv77wW2AqfHx5T6ALDS9v2THNOXm1ej5X+1zytiqnOPiJhNJGFb\nE+tTtm5sf972rbbfBwwAB23/OvBV4J4ybCOwq2zvBgYkzZW0FFgGHCrtnfOS+suLsxua9omIiA6Z\nsnVzGV8Adkq6l8bV+noA28ck7aTxDp0LwANNl+ebgSeAecAe23uv4vgREdGCKVs3b4W0biIipu+K\nWzcRETG7JegjIiouQR8RUXEJ+oiIikvQR0RUXII+IqLiEvQRERWXoI+IqLgEfURExSXoIyIqLkEf\nEVFxCfqIiIpL0EdEVFyCPiKi4hL0EREVl6CPiKi4KYNe0vWSnpP0gqSjkraW+kJJ+yWdkLRP0oKm\nfQYljUg6LmlVU32FpCOSTkp6uDOnFBERzVpZM/ZHwC/a/gBwJ7BGUj+wBThg+3bgIDAIIGk5jWUF\n+4A1wCNljViAR4FNtnuBXkmr231CERHxRi21bmy/Wjavp7HOrIF1wHCpDwN3l+21wA7bF22fAkaA\nfklLgPm2D5dx25v2iYiIDmkp6CVdI+kF4BzwtRLWi22PAdg+Bywqw3uAM027ny21HmC0qT5aahER\n0UFzWhlk+8fAByS9E3hG0h28eXXutq60PTQ09Pp2rVajVqu18+EjIma9er1OvV6fcpzs6eWzpH8L\nvArcB9Rsj5W2zLO2+yRtAWx7Wxm/F9gKnB4fU+oDwErb909yDF9uXo2W/9U+r4jpnntExEwmCdua\nWG/lXTc/M/6OGkk3AL8EHAd2A/eUYRuBXWV7NzAgaa6kpcAy4FBp75yX1F9enN3QtE9ERHRIK62b\ndwHDkq6h8cTwR7b3SPoTYKeke2lcra8HsH1M0k7gGHABeKDp8nwz8AQwD9hje29bzyYiIt5k2q2b\nbkjrJiJi+q64dRMREbNbgj4iouIS9BERFZegj4iouAR9RETFJegjIiouQR8RUXEJ+oiIikvQR0RU\nXII+IqLiEvQRERWXoI+IqLgEfURExSXoIyIqLkEfEVFxCfqIiIprZSnBWyQdlPRtSUclPVjqCyXt\nl3RC0r7x5QbLfYOSRiQdl7Sqqb5C0hFJJyU93JlTioiIZq1c0V8E/rXtO4B/AGyW9H5gC3DA9u3A\nQWAQQNJyGssK9gFrgEfKGrEAjwKbbPcCvZJWt/VsIiLiTaYMetvnbL9Ytl+hsTD4LcA6YLgMGwbu\nLttrgR22L9o+BYwA/ZKWAPNtHy7jtjftExERHTKtHr2k24A7gT8BFtseg8aTAbCoDOsBzjTtdrbU\neoDRpvpoqUVERAfNaXWgpJuArwAP2X5F0sSVtdu60vbQ0NDr27VajVqt1s6Hj4iY9er1OvV6fcpx\nsqfOZ0lzgP8K/DfbXyq140DN9lhpyzxru0/SFsC2t5Vxe4GtwOnxMaU+AKy0ff8kx/Pl5tVo+V/t\n84po5dwjImYLSdjWxHqrrZs/AI6Nh3yxG7inbG8EdjXVByTNlbQUWAYcKu2d85L6y4uzG5r2iYiI\nDpnyil7SR4CvA0dpXEYb+DxwCNgJvIfG1fp6298v+wwCm4ALNFo9+0v9g8ATwDxgj+2HLnHMXNFH\nREzTpa7oW2rddFuCPiJi+q62dRMREbNUgj4iouIS9BERFZegj4iouAR9RETFJegjIiouQR8RUXEJ\n+oiIikvQR0RUXII+IqLiEvQRERWXoI+IqLgEfURExSXoIyIqLkEfEVFxCfqIiIqbMuglPSZpTNKR\nptpCSfslnZC0T9KCpvsGJY1IOi5pVVN9haQjkk5Kerj9pxIREZNp5Yr+cWD1hNoW4IDt24GDwCCA\npOXAeqAPWAM8UtaHBXgU2GS7F+iVNPExIyKiA6YMetvfAP56QnkdMFy2h4G7y/ZaYIfti7ZPASNA\nv6QlwHzbh8u47U37REREB11pj36R7TEA2+eARaXeA5xpGne21HqA0ab6aKlFRESHzWnT47R9le2h\noaHXt2u1GrVard2HiIiY1er1OvV6fcpxsqfOaEnvBb5q+++V28eBmu2x0pZ51nafpC2AbW8r4/YC\nW4HT42NKfQBYafv+SxzPl5tXo+1/tc8topVzj4iYLSRhWxPrrbZuVD7G7QbuKdsbgV1N9QFJcyUt\nBZYBh0p757yk/vLi7IamfSIiooOmbN1IegqoAX9H0ss0rtC/ADwt6V4aV+vrAWwfk7QTOAZcAB5o\nujTfDDwBzAP22N7b3lOJiIjJtNS66ba0biIipu9qWzcRETFLJegjIiouQR8RUXEJ+oiIikvQR0RU\nXII+IqLiEvQRERWXoI+IqLgEfURExSXoIyIqLkEfEVFxCfqIiIpL0EdEVFyCPiKi4hL0EREV1/Wg\nl/QJSS9JOinpc505Sr0zDztNrazl+HaYA8yMecyEOcDMmMdMmAN0Zx5LltyGpKv6WLLkto7Ps5Nf\ni64GvaRrgN8DVgN3AJ+R9P72H6ne/oe8AjPhP9NMmAPMjHnMhDnAzJjHTJgDdGceY2OnaSxUdKmP\nrVPc7/IYnVWZoAf6gRHbp21fAHYA67o8h4iIt5VuB30PcKbp9mipRUREh3R1zVhJ/wRYbftflNu/\nBvTbfnDCuCzmGhFxBSZbM3ZOl+dwFri16fYtpfYGk000IiKuTLdbN4eBZZLeK2kuMADs7vIcIiLe\nVrp6RW/7NUmfBfbTeJJ5zPbxbs4hIuLtpqs9+oiI6L78ZmxERMUl6CMiKq7b77rpiPLbtev4yXvy\nzwK73479//K16AGes/1KU/0Ttvd2cR79gG0flrQc+ATwku093ZrDJHPabnvDW3X8ModfoPGLg9+y\nvb9Lx/wQcNz2DyTdAGwBVgDHgN+xfb5L83gQeMb2mSkHd24O428C+a7tA5J+FfiHwHHgy+UXObsx\nj/cBnwbeA7wGnASesv2Djhxvtvfoy9/L+QyN37IdLeVbaPxj7rD9hbdqbuMk/Ybtx7twnAeBzTS+\nae8EHrK9q9z3vO0VnZ5DOdZWYA2NC4mvAR8CngV+Cdhn+991YQ4T380l4BeBgwC213Z6DmUeh2z3\nl+3fpPHv8wywCvhqN74/JX0b+HnbFyV9GXgV+ArwsVL/dKfnUOZxHvgh8B3gD4Gnbf9FN47dNIcn\naXxf3gh8H7gJ+C80vhayvbELc3gQ+BTwdeCTwAtlLr8CPGC73vaD2p7VHzSeCa+bpD6Xxp9bmAlz\nfLlLxzkK3FS2bwO+SSPsAV7o4vkeBa6l8Z/pB8A7S/0G4EiX5vA88J+AGrCyfP5e2V7Zxa/FC03b\nh4Gby/Y7gKNdmsPx5q/LhPte7ObXgka7eBXwGPAXwF5gIzC/S3M4Uj7PAcaAa8ttdfF782jTcW8E\n6mX71k79P61C6+bHwLuBiX916F3lvq6QdORSdwGLuzSNa1zaNbZPSaoBX5H03jKPbrlo+zXgVUnf\ncflx1PbfSOrWv8ldwEPAbwO/ZftFSX9j+3906fjjrpG0kEbAXetyBWv7h5IudmkO32r6qfLPJN1l\n+5uSeoGutCoK2/4xjbdX75d0HY2f/D4D/Afg5i7M4ZrSvnkHjZBdAPwVcD1wXReOP24OjZbN9TR+\nqsD2y+Vr0pGDzXb/Evjvkkb4yd/RuRVYBny2i/NYTOOvcv71hLqA/9WlOYxJutP2iwC2X5H0KeAP\ngJ/r0hwA/lbSjbZfBT44XpS0gC49+ZZA+aKkp8vnMd6a7/cFwJ/S+D6wpHfZ/p6km+jek+99wJck\n/RvgL4E/lnSGxv+X+7o0B5hwvm70w3cDuyXd2KU5PAa8ROMnzt8Gnpb058CHabR/u+H3gcOSngM+\nCmwDkHQzjSedtpv1PXp4/c8f9/PGF2MPl6vKbs3hMeBx29+Y5L6nbP9qF+ZwC42r6XOT3PcR2/+z\n03Mox7re9o8mqf8M8C7bR7sxjwnH/mXgI7Y/3+1jT6YE22Lb/7uLx3wnsJTGE96o7bFuHbscv9f2\nyW4e8xLzeDeA7e9K+ing4zTaq4e6OIc7gD4aL8q/1PHjVSHoIyLi0vI++oiIikvQR0RUXII+IqLi\nEvQRERX3/wFXxq48JxsDCQAAAABJRU5ErkJggg==\n",
      "text/plain": [
       "<matplotlib.figure.Figure at 0x14869b990>"
      ]
     },
     "metadata": {},
     "output_type": "display_data"
    }
   ],
   "source": [
    "from sklearn.cluster import KMeans\n",
    "from ggplot import *\n",
    "np.random.seed(1)\n",
    "\n",
    "mat = data1.ix[:,1:].as_matrix()\n",
    "#print mat;\n",
    "\n",
    "km = KMeans(n_clusters=10)\n",
    "km.fit(mat) #Compute k-means clustering\n",
    "labels = km.labels_\n",
    "\n",
    "center = km.cluster_centers_\n",
    "\n",
    "data1['labels'] = labels\n",
    "cluster = data1.groupby('labels').count().reset_index()\n",
    "cluster = cluster.ix[:, 1:2]\n",
    "print cluster\n",
    "\n",
    "cluster['User'].plot.bar()"
   ]
  },
  {
   "cell_type": "code",
   "execution_count": 148,
   "metadata": {
    "collapsed": false
   },
   "outputs": [],
   "source": [
    "# Extract cluster 0 and cluster 8 for future analysis, you can also extract all of them. Here, I just extract the most\n",
    "# important two\n",
    "\n",
    "data2 = data1.copy()\n",
    "\n",
    "# Set seasonal features to 1 if customer has action during that season\n",
    "data2.loc[data2.Spring != 0.0, 'Spring'] = 1\n",
    "data2.loc[data2.Summer != 0.0, 'Summer'] = 1\n",
    "data2.loc[data2.Autumn != 0.0, 'Autumn'] = 1\n",
    "data2.loc[data2.Winter != 0.0, 'Winter'] = 1\n",
    "\n",
    "# We would like to set features in Season to categorical features\n",
    "Season = ['Duration', 'Spring','Summer','Autumn','Winter']\n",
    "for i in range(0, len(Season)):\n",
    "    data2[Season[i]] = data2[Season[i]].astype('category')\n",
    "\n",
    "cluster0 = data2.loc[data1['labels'] == 0]\n",
    "cluster8= data2.loc[data1['labels'] == 8]"
   ]
  },
  {
   "cell_type": "markdown",
   "metadata": {},
   "source": [
    "#### 3. Prediction\n",
    "\n",
    "Q: In particular, how would you identify and predict high growth merchants? - Based on different cluster, I applied supervised learning algorithm on selected cluster, cluster0.\n",
    "I extracted two important cluster here, cluster0 (8154) and cluster8(190) for the predictive model. Since we would like to identify and predict the high growth merchants. Before apporching predictive model, I convered “Duration” to categorical data.\n",
    "\n",
    "##### Cluster0 Prediction\n",
    "I applied the linear model, fit1, on cluster0 and test the assumptions of linear model. The model satisfies the assumption of linear regression. The model $\\sqrt[3]{Sum} = 40.4382 + 1.696e-06 * Increase_btw_Years + 42.791 * Duration$.  \n",
    "\n",
    "To interpret the model:  \n",
    "\n",
    "The coefficient of Increase_btw_Years is 1.696e-06. Under fixed class of Duration, one unit change in age will affect 1.696e-06 average change in $\\sqrt[3]{Sum}$.  \n",
    "\n",
    "The coefficient of Increase_btw_Years is 42.791 which is the difference in the intercepts between Duration1 and Duration2 when the values of Increase_btw_Years is fixed. Fixed Increase_btw_Years, to switch class of Duration from 1 to 2 will affect 42.791  per unit average change in $\\sqrt[3]{Sum}$.  \n",
    "\n",
    "Those features of model, fit1, are all significant because their p values are smaller than 0.05.\n",
    "\n",
    "##### Cluster8 Prediction \n",
    "\n",
    "The model satisfies the assumption of linear regression as well.  \n"
   ]
  },
  {
   "cell_type": "code",
   "execution_count": 141,
   "metadata": {
    "collapsed": false
   },
   "outputs": [
    {
     "name": "stdout",
     "output_type": "stream",
     "text": [
      "                               OLS Regression Results                              \n",
      "===================================================================================\n",
      "Dep. Variable:     scipy.special.cbrt(Sum)   R-squared:                       0.215\n",
      "Model:                                 OLS   Adj. R-squared:                  0.215\n",
      "Method:                      Least Squares   F-statistic:                     1117.\n",
      "Date:                     Sun, 20 Mar 2016   Prob (F-statistic):               0.00\n",
      "Time:                             10:39:37   Log-Likelihood:                -41737.\n",
      "No. Observations:                     8154   AIC:                         8.348e+04\n",
      "Df Residuals:                         8151   BIC:                         8.350e+04\n",
      "Df Model:                                2                                         \n",
      "Covariance Type:                 nonrobust                                         \n",
      "======================================================================================\n",
      "                         coef    std err          t      P>|t|      [95.0% Conf. Int.]\n",
      "--------------------------------------------------------------------------------------\n",
      "Intercept             40.4382      0.584     69.184      0.000        39.292    41.584\n",
      "Duration[T.2]         42.7910      0.910     47.033      0.000        41.008    44.574\n",
      "Increase_btw_Years  1.696e-06   4.75e-07      3.573      0.000      7.65e-07  2.63e-06\n",
      "==============================================================================\n",
      "Omnibus:                     1618.840   Durbin-Watson:                   2.021\n",
      "Prob(Omnibus):                  0.000   Jarque-Bera (JB):             2997.935\n",
      "Skew:                           1.238   Prob(JB):                         0.00\n",
      "Kurtosis:                       4.640   Cond. No.                     2.11e+06\n",
      "==============================================================================\n",
      "\n",
      "Warnings:\n",
      "[1] Standard Errors assume that the covariance matrix of the errors is correctly specified.\n",
      "[2] The condition number is large, 2.11e+06. This might indicate that there are\n",
      "strong multicollinearity or other numerical problems.\n"
     ]
    },
    {
     "data": {
      "text/plain": [
       "<matplotlib.text.Text at 0x144910f10>"
      ]
     },
     "execution_count": 141,
     "metadata": {},
     "output_type": "execute_result"
    },
    {
     "data": {
      "image/png": "iVBORw0KGgoAAAANSUhEUgAAAYIAAAGJCAYAAACHPTRKAAAABHNCSVQICAgIfAhkiAAAAAlwSFlz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\ncEoEIiIV7v8DHB6L/u2kJMQAAAAASUVORK5CYII=\n",
      "text/plain": [
       "<matplotlib.figure.Figure at 0x13dcd8550>"
      ]
     },
     "metadata": {},
     "output_type": "display_data"
    }
   ],
   "source": [
    "import statsmodels.api as sm\n",
    "from statsmodels.formula.api import ols\n",
    "import matplotlib.pyplot as plt\n",
    "import scipy\n",
    "\n",
    "%matplotlib inline\n",
    "# Cluster 0:\n",
    "fit0 = ols(formula = \"scipy.special.cbrt(Sum) ~ Increase_btw_Years + Duration\", data = cluster0).fit()\n",
    "\n",
    "print fit0.summary()\n",
    "           \n",
    "# Normality \n",
    "fit0_fit = fit0.fittedvalues\n",
    "fit0_resid = fit0.resid_pearson\n",
    "fig, ax = plt.subplots(figsize=(6,6))\n",
    "fig = sm.qqplot(fit0_resid, ax = ax)\n",
    "plt.title('Normal Q-Q Plot')"
   ]
  },
  {
   "cell_type": "code",
   "execution_count": 142,
   "metadata": {
    "collapsed": false
   },
   "outputs": [
    {
     "data": {
      "text/plain": [
       "<matplotlib.text.Text at 0x144d28b90>"
      ]
     },
     "execution_count": 142,
     "metadata": {},
     "output_type": "execute_result"
    },
    {
     "data": {
      "image/png": "iVBORw0KGgoAAAANSUhEUgAAAYsAAAGJCAYAAAB7KB+AAAAABHNCSVQICAgIfAhkiAAAAAlwSFlz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\n",
      "text/plain": [
       "<matplotlib.figure.Figure at 0x144165e90>"
      ]
     },
     "metadata": {},
     "output_type": "display_data"
    }
   ],
   "source": [
    "# Cluster 8:\n",
    "fit8 = ols(formula = \"scipy.special.cbrt(Sum) ~ Increase_btw_Years + Duration\", data = cluster8).fit()\n",
    "           \n",
    "# Normality \n",
    "fit8_fit = fit8.fittedvalues\n",
    "fit8_resid = fit8.resid_pearson\n",
    "fig, ax = plt.subplots(figsize=(6,6))\n",
    "fig = sm.qqplot(fit8_resid, ax = ax)\n",
    "plt.title('Normal Q-Q Plot')"
   ]
  },
  {
   "cell_type": "markdown",
   "metadata": {},
   "source": [
    "#### 4. Model Selection (Evaluation) - Cross Validation \n",
    "\n",
    "To general two models for cluster0: fit2 is the same model as above, and fit3 is a new model is  $\\sqrt[3]{Sum} = 9.5218 + 18.9253 * Increase_btw_Years + 5.9394* Duration + 19.3682 * Spring + 20.3033 * Summer + 20.3033 * Autumn + 18.9253 * Winter$. All those features are also significant because of the very small p-values.  \n",
    "\n",
    "But, since there are many features in fit2 model, and it will cause the overfitting.  \n",
    "\n",
    "Because of the overfitting problem, I chose to use 10-fold cross validation to evaluate two models, fit1 and fit3, according to the smaller mean square error(MSE).  \n",
    "\n",
    "After performing 10-fold cross validation, I found that MSE of fit1 is 4351.109158 and MSE of fit3 is 5334.48659.  \n",
    "\n",
    "Thus, I could conclude that fit1 model is better than fit3 model on cluster0."
   ]
  },
  {
   "cell_type": "code",
   "execution_count": 162,
   "metadata": {
    "collapsed": false
   },
   "outputs": [
    {
     "name": "stdout",
     "output_type": "stream",
     "text": [
      "Q1 model, minimal MSE through 10-fold CV is: 4351.109158\n",
      "Q2 model, minimal MSE through 10-fold CV is: 5334.486599\n"
     ]
    }
   ],
   "source": [
    "from sklearn import linear_model\n",
    "from sklearn import preprocessing\n",
    "from sklearn import cross_validation\n",
    "\n",
    "Y = data1.ix[:, 1:2]\n",
    "Y = scipy.special.cbrt(Y)\n",
    "Y = np.array(Y)\n",
    "\n",
    "pred_X1 = data1[['Increase_btw_Years', 'Duration']]\n",
    "pred_X1 = np.matrix(pred_X1)\n",
    "\n",
    "#fit2\n",
    "fit2 = linear_model.LinearRegression()\n",
    "fit2.fit(pred_X1, Y)\n",
    "\n",
    "scores2 = cross_validation.cross_val_score(fit2, pred_X1, Y, cv = 10, scoring = 'mean_squared_error')\n",
    "print \"Q1 model, minimal MSE through 10-fold CV is: %5f\" % abs(min(scores2))\n",
    "\n",
    "#fit3\n",
    "pred_X2 = data1[['Increase_btw_Years', 'Duration', 'Spring', 'Summer', 'Autumn', 'Winter']]\n",
    "pred_X2 = np.matrix(pred_X2)\n",
    "\n",
    "fit3 = linear_model.LinearRegression()\n",
    "fit3.fit(pred_X2, Y)\n",
    "\n",
    "scores3 = cross_validation.cross_val_score(fit3, pred_X2, Y, cv = 10, scoring = 'mean_squared_error')\n",
    "print \"Q2 model, minimal MSE through 10-fold CV is: %5f\" % abs(min(scores3))"
   ]
  },
  {
   "cell_type": "markdown",
   "metadata": {},
   "source": [
    "#### 5.\tDiscussion\n",
    "\n",
    "For the further studies, we can also generate more features based on Hours and other original data from case_final dataset. We can also combine those features to find the interaction between them in order to better segment users.\n",
    "\n",
    "There are also many classic segmentation methods. For example, we can compute the users' sales in different months of per year.\n",
    "\n",
    "First of all, I think it could work to partition the data for each merchant into two parts (training and testing), obviously the training has to be the earlier time periods data and the testing later time periods. For example, we can take data from 1st charge up until 365*80% days later as training and the remaining as testing.   \n",
    "\n",
    "I can imagine, for some merchants, this may result in very few observations in either or both part, some more refined way of partitioning might be necessary then.  \n",
    "\n",
    "An alternative is to partition the data into training and testing with merchant as units, but that would propose some difficulties too, since matching up two merchants is nearly impossible.   \n",
    "\n",
    "In summary, one should think carefully about how to partition the data, since it’s difficult to say anything reliable without a testing step. \n",
    "\n",
    "If we want to apply Kmeans directly, these packages might be helpful  https://www.jstatsoft.org/article/view/v065i04/v65i04.pdf. For example, time point and amount of money for every merchant create a joint trajectory, so it seems straightforward to cluster these joint trajectories with kml3d. \n",
    "If we want to perform feature engineering instead of using raw data, it’s probably better to consult someone with better domain knowledge.  \n",
    "\n",
    "A simple-minded next step would be to just calculate the slope of line connecting these 10 points, say least square estimate of slope of a straight line. "
   ]
  }
 ],
 "metadata": {
  "kernelspec": {
   "display_name": "Python 2",
   "language": "python",
   "name": "python2"
  },
  "language_info": {
   "codemirror_mode": {
    "name": "ipython",
    "version": 2
   },
   "file_extension": ".py",
   "mimetype": "text/x-python",
   "name": "python",
   "nbconvert_exporter": "python",
   "pygments_lexer": "ipython2",
   "version": "2.7.11"
  }
 },
 "nbformat": 4,
 "nbformat_minor": 0
}
